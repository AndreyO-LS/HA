{
  "nbformat": 4,
  "nbformat_minor": 0,
  "metadata": {
    "colab": {
      "provenance": [],
      "toc_visible": true
    },
    "kernelspec": {
      "name": "python3",
      "display_name": "Python 3"
    },
    "language_info": {
      "name": "python"
    }
  },
  "cells": [
    {
      "cell_type": "markdown",
      "source": [
        "# DS'24 HW 1\n",
        "\n",
        "## **Winter (?) holidays daydreaming🍁❄️**\n",
        "\n",
        "**DL:** 05/11/24 00:00\n",
        "\n",
        "**Submission guidelines:**\n",
        "\n",
        "1. Please submit your notebook with comments via github classroom\n",
        "2. Following the honney-pots policy late submissions will be graded with the penalty (each day loose 1 honey pot)\n"
      ],
      "metadata": {
        "id": "M4Snq7ZiM2L-"
      }
    },
    {
      "cell_type": "markdown",
      "source": [
        "> Dear friend,\n",
        "\n",
        "> In this Home Assignment you need to help Petya with the investigation of the wonderful places to spend winter holidays. Petya has collected data about major destinations, but need your python-magic superpower to make the decision.\n",
        "\n",
        "\n",
        ">Grab your cup of tea-coffe-colla zero and enjoy cozy home assignment!☕\n"
      ],
      "metadata": {
        "id": "t5k69PJKB1tP"
      }
    },
    {
      "cell_type": "markdown",
      "source": [
        "Available datasets:\n",
        "\n",
        "\n",
        "\n",
        "*   `skiresorts.xlsx` - main dataset on ski resorts parameters\n",
        "\n",
        "*   `country_weather_visa.xlsx` - datased on temperature in the countries and visa requirements\n",
        "\n",
        "* `burger_price.xlsx` - the name of dataset speaks for itself 😀\n",
        "\n"
      ],
      "metadata": {
        "id": "4M04b3m0IWfH"
      }
    },
    {
      "cell_type": "markdown",
      "source": [
        "Skiresorts Features :\n",
        "\n",
        "* Resort\n",
        "* Country\n",
        "* HighestPoint - the highest peak (meters above the sea level)\n",
        "* LowestPoint\t - the lowest peak (meters above the sea level)\n",
        "* DayPassPriceAdult\t - price of the skypass (€)\n",
        "* TotalSlope\t- total number of trails\n",
        "* NightSki - availability of illumination for night sky\n",
        "* TotalLifts\t- overall number of lists\n",
        "* LiftCapacity - overall capacity of lifts (number of people)"
      ],
      "metadata": {
        "id": "NbXAThTIMx4i"
      }
    },
    {
      "cell_type": "markdown",
      "source": [
        "## Question 1 (1 point)"
      ],
      "metadata": {
        "id": "vVyYbNgPM70r"
      }
    },
    {
      "cell_type": "markdown",
      "source": [
        "> Find the value of the interquartile range of the Lift Capacity attribute for ski resorts with night-illuminated trails (Yes; NightSki). Round the answer to two characters.\n",
        "\n",
        "\n",
        "\n",
        "`Response example: 100.00`"
      ],
      "metadata": {
        "id": "9rK-y678NLxu"
      }
    },
    {
      "cell_type": "code",
      "source": [
        "# type your code below ๑(◕‿◕)๑"
      ],
      "metadata": {
        "id": "SnX68haY7XWA"
      },
      "execution_count": null,
      "outputs": []
    },
    {
      "cell_type": "markdown",
      "source": [
        "## Question 2 (1 point)"
      ],
      "metadata": {
        "id": "5sSykSvBNIcE"
      }
    },
    {
      "cell_type": "markdown",
      "source": [
        "> For the country with the grea ski resorts, find the name of the resort with the lowest high peak based on HighestPoint.\n",
        "\n",
        "`Response example: Alpendorf (Ski amade)`"
      ],
      "metadata": {
        "id": "WLowu3SzNHJ0"
      }
    },
    {
      "cell_type": "code",
      "source": [
        "# type your code below ๑(◕‿◕)๑"
      ],
      "metadata": {
        "id": "-4N6PIATNGx2"
      },
      "execution_count": null,
      "outputs": []
    },
    {
      "cell_type": "markdown",
      "source": [
        "## Question 3 (1 point)"
      ],
      "metadata": {
        "id": "IC4k_nzXNUal"
      }
    },
    {
      "cell_type": "markdown",
      "source": [
        "> Build a summary table where the Country is located in rows, and the average of the HighestPoint and LowestPoint for each country is located in columns.\n"
      ],
      "metadata": {
        "id": "CP4DR1pXNbjr"
      }
    },
    {
      "cell_type": "code",
      "source": [
        "# type your code below ๑(◕‿◕)๑"
      ],
      "metadata": {
        "id": "iREYoW5fNVop"
      },
      "execution_count": null,
      "outputs": []
    },
    {
      "cell_type": "markdown",
      "source": [
        "## Question 4 (1 point)"
      ],
      "metadata": {
        "id": "cFcOUISUNkar"
      }
    },
    {
      "cell_type": "markdown",
      "source": [
        "> We will assume that outliers are considered observations that differ from the arithmetic mean by 2 standard deviations or more. Determine how many observations are considered outliers based on Total Lift s. Round the answer to two characters.\n",
        "\n",
        "`Response example: Austria`"
      ],
      "metadata": {
        "id": "dtkxpm2JNjsk"
      }
    },
    {
      "cell_type": "code",
      "source": [
        "# type your code below ๑(◕‿◕)๑"
      ],
      "metadata": {
        "id": "WFT_oLJOPoGM"
      },
      "execution_count": null,
      "outputs": []
    },
    {
      "cell_type": "markdown",
      "source": [
        "## Question 5 (1 point)"
      ],
      "metadata": {
        "id": "tFcdI2gkOSBF"
      }
    },
    {
      "cell_type": "markdown",
      "source": [
        "> Add a new  column \"home_country\" to the table, which will represent the encoded values of the Country attribute. Perform the encoding as follows: if the Country value contains the string Russia – 1, otherwise – 0.\n"
      ],
      "metadata": {
        "id": "4CGc7w6xNoNe"
      }
    },
    {
      "cell_type": "code",
      "source": [
        "# type your code below ๑(◕‿◕)๑"
      ],
      "metadata": {
        "id": "fw7oGmQ5PnVH"
      },
      "execution_count": null,
      "outputs": []
    },
    {
      "cell_type": "markdown",
      "source": [
        "## Question 6 (1 point)"
      ],
      "metadata": {
        "id": "3Q6q4aWnPJVG"
      }
    },
    {
      "cell_type": "markdown",
      "source": [
        "> Compare average price in Russia with other countries"
      ],
      "metadata": {
        "id": "93nMdUWwPR_4"
      }
    },
    {
      "cell_type": "code",
      "source": [
        "# type your code below ๑(◕‿◕)๑"
      ],
      "metadata": {
        "id": "k7Br1hbMPnCG"
      },
      "execution_count": null,
      "outputs": []
    },
    {
      "cell_type": "markdown",
      "source": [
        "## Question 7 (1 point)"
      ],
      "metadata": {
        "id": "tO3IJazePZMM"
      }
    },
    {
      "cell_type": "markdown",
      "source": [
        "> Build a correlation matrix. Find the variable that has the weakest correlation with the Lift Capacity variable. The coded attribute does not need to be taken into account."
      ],
      "metadata": {
        "id": "fPI7LU3cOniK"
      }
    },
    {
      "cell_type": "code",
      "source": [
        "# type your code below ๑(◕‿◕)๑"
      ],
      "metadata": {
        "id": "wSrmr_8GPmsN"
      },
      "execution_count": null,
      "outputs": []
    },
    {
      "cell_type": "markdown",
      "source": [
        "## Question 8 (1 point)"
      ],
      "metadata": {
        "id": "T2vRra1wPkTR"
      }
    },
    {
      "cell_type": "markdown",
      "source": [
        "> Find correlation between the number of slopes in a ski resort (TotalSlope) and the cost of a lift ticket (DayPassPriceAdult). As an answer, specify the coefficient value. Round the answer to two characters.\n",
        "\n",
        "`Response example: 0.00`"
      ],
      "metadata": {
        "id": "rbLREVCRPqZE"
      }
    },
    {
      "cell_type": "code",
      "source": [
        "# type your code below ๑(◕‿◕)๑"
      ],
      "metadata": {
        "id": "DzrkhGgl7jPP"
      },
      "execution_count": null,
      "outputs": []
    },
    {
      "cell_type": "markdown",
      "source": [
        "## Question 9 (1 point)\n",
        "> For the dataset on countries find average Temperature from 23 December to 26 December."
      ],
      "metadata": {
        "id": "lqTpoa4GGuXT"
      }
    },
    {
      "cell_type": "code",
      "source": [
        "# type your code below ๑(◕‿◕)๑"
      ],
      "metadata": {
        "id": "6G3y9fTfLpO0"
      },
      "execution_count": null,
      "outputs": []
    },
    {
      "cell_type": "markdown",
      "source": [
        "## Question 10 (1 point)\n",
        "> Find the cheapest price DayPassPriceAdult for countries that does not require visa.\n",
        "\n",
        "**(!!) Here you need to use merge tables**"
      ],
      "metadata": {
        "id": "sJR2boxWHBP6"
      }
    },
    {
      "cell_type": "code",
      "source": [
        "# type your code below ๑(◕‿◕)๑"
      ],
      "metadata": {
        "id": "HND3zrPCL_7u"
      },
      "execution_count": null,
      "outputs": []
    },
    {
      "cell_type": "markdown",
      "source": [
        "## Question 11 (1 point)"
      ],
      "metadata": {
        "id": "LiS6FDDwHpFy"
      }
    },
    {
      "cell_type": "markdown",
      "source": [
        "> Plot the  distribution of LiftCapacity for countries with\n",
        "average Temperature below zero.\n",
        "\n",
        "**(!!) use plt.hist or seaborn.dist**\n"
      ],
      "metadata": {
        "id": "fUsIddQBHs5G"
      }
    },
    {
      "cell_type": "code",
      "source": [
        "# type your code below ๑(◕‿◕)๑"
      ],
      "metadata": {
        "id": "RJcNt0TwIzvN"
      },
      "execution_count": null,
      "outputs": []
    },
    {
      "cell_type": "markdown",
      "source": [
        "## Question 12 (1 point)"
      ],
      "metadata": {
        "id": "s-OW_e4VIyV6"
      }
    },
    {
      "cell_type": "markdown",
      "source": [
        "> What is the maximum TotalSlope of the resort where average Temperature above zero?"
      ],
      "metadata": {
        "id": "omyVeH8FI0r4"
      }
    },
    {
      "cell_type": "code",
      "source": [
        "# type your code below ๑(◕‿◕)๑"
      ],
      "metadata": {
        "id": "5GFJQ6q7MErC"
      },
      "execution_count": null,
      "outputs": []
    },
    {
      "cell_type": "markdown",
      "source": [
        "## Question 13 (1 point)\n",
        "\n",
        "> Find the resort with largest number of routes (TotalSlope) for countries with largest number of daylight hours (difference betweenSunrise and Sunset time)\n",
        "\n",
        "> What is the resort and number of routs?\n",
        "\n",
        "\n",
        "**(!!) Here \"5 AM\" means 5:00, while \"5 PM\" 17:00.**\n",
        "\n"
      ],
      "metadata": {
        "id": "_0yNW_MKJVPm"
      }
    },
    {
      "cell_type": "markdown",
      "source": [
        "## Question 15 (1 point)"
      ],
      "metadata": {
        "id": "idqWZIKlMeuk"
      }
    },
    {
      "cell_type": "markdown",
      "source": [
        "> Find the resort for the country maximum average temperature and with lowest price of DayPassPriceAdult."
      ],
      "metadata": {
        "id": "3ooS_5Z-Moth"
      }
    },
    {
      "cell_type": "code",
      "source": [
        "# type your code below ๑(◕‿◕)๑"
      ],
      "metadata": {
        "id": "D2xPM74IMpRY"
      },
      "execution_count": null,
      "outputs": []
    },
    {
      "cell_type": "markdown",
      "source": [
        "## Question 16 (1 point)\n",
        "\n",
        "Petya is not only adrenaline junkie but also a burger-addict, so he eats them twice a day.\n",
        "\n",
        "Find the expences on buregrs as food and daypass on information of burger prices and DayPassPriceAdult for 4 days.\n",
        "\n",
        "1) Find a resort with the lowest expence.\n",
        "\n",
        "2) Plot distribution of expences with histogram\n"
      ],
      "metadata": {
        "id": "w0Efw6IrKkE7"
      }
    },
    {
      "cell_type": "code",
      "source": [
        "# type your code below ๑(◕‿◕)๑"
      ],
      "metadata": {
        "id": "xfdKc91AOcWt"
      },
      "execution_count": null,
      "outputs": []
    },
    {
      "cell_type": "markdown",
      "source": [
        "## Question 17 (optional - 1 ❤️)\n",
        "\n",
        "> Daydreaming: here you can post any meme or beautiful picture from the ski resort. We'll share them in the chat then - just for inspiration 🤗"
      ],
      "metadata": {
        "id": "PDfUMcqCNF1t"
      }
    }
  ]
}